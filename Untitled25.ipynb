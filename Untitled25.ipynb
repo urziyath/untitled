{
 "cells": [
  {
   "cell_type": "code",
   "execution_count": 1,
   "metadata": {},
   "outputs": [],
   "source": [
    "import math\n",
    "\n",
    "def find_vowel(string):\n",
    "    res = []\n",
    "    for i in range(len(string)):\n",
    "        if string[i] in 'AEIOUaeiou':\n",
    "            res.append(i*100)\n",
    "    #return res\n",
    "    result=[]\n",
    "    for num in res:\n",
    "        for i in range(1,num):\n",
    "            if i==1:\n",
    "                continue\n",
    "            prime=True\n",
    "            for j in range(2,int(math.sqrt(i))+1):\n",
    "                if i%j==0:\n",
    "                    prime=False\n",
    "                    break\n",
    "            if prime:\n",
    "                result.append(i)\n",
    "        print(sum(result))\n",
    "        \n",
    "def add_prime(n): \n",
    "    if n>0:\n",
    "        return (n-1)%9+1\n",
    "    else:\n",
    "        return 0"
   ]
  },
  {
   "cell_type": "code",
   "execution_count": 2,
   "metadata": {},
   "outputs": [
    {
     "name": "stdout",
     "output_type": "stream",
     "text": [
      "1060\n",
      "14947\n"
     ]
    }
   ],
   "source": [
    "string = 'Hello'\n",
    "find_vowel(string)\n"
   ]
  },
  {
   "cell_type": "code",
   "execution_count": null,
   "metadata": {},
   "outputs": [],
   "source": []
  }
 ],
 "metadata": {
  "kernelspec": {
   "display_name": "Python 3",
   "language": "python",
   "name": "python3"
  },
  "language_info": {
   "codemirror_mode": {
    "name": "ipython",
    "version": 3
   },
   "file_extension": ".py",
   "mimetype": "text/x-python",
   "name": "python",
   "nbconvert_exporter": "python",
   "pygments_lexer": "ipython3",
   "version": "3.7.6"
  }
 },
 "nbformat": 4,
 "nbformat_minor": 4
}
